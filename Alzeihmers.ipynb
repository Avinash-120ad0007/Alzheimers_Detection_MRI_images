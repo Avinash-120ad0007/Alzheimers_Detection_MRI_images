{
 "cells": [
  {
   "cell_type": "code",
   "execution_count": 136,
   "id": "e26ee79a",
   "metadata": {},
   "outputs": [
    {
     "name": "stdout",
     "output_type": "stream",
     "text": [
      "Collecting opencv-python\n",
      "  Downloading opencv_python-4.8.0.76-cp37-abi3-win_amd64.whl (38.1 MB)\n",
      "     ---------------------------------------- 38.1/38.1 MB 8.4 MB/s eta 0:00:00\n",
      "Requirement already satisfied: numpy>=1.17.3 in c:\\users\\veera\\anaconda3\\lib\\site-packages (from opencv-python) (1.23.5)\n",
      "Installing collected packages: opencv-python\n",
      "Successfully installed opencv-python-4.8.0.76\n"
     ]
    }
   ],
   "source": [
    "!pip install opencv-python"
   ]
  },
  {
   "cell_type": "code",
   "execution_count": 142,
   "id": "347f5c20",
   "metadata": {},
   "outputs": [],
   "source": [
    "import cv2"
   ]
  },
  {
   "cell_type": "code",
   "execution_count": 97,
   "id": "75b16f99",
   "metadata": {},
   "outputs": [],
   "source": [
    "#Importing Basic Libraries\n",
    "import pandas as pd\n",
    "import numpy as np\n",
    "import matplotlib.pyplot as plt\n",
    "import seaborn as sns\n",
    "from numpy import asarray"
   ]
  },
  {
   "cell_type": "code",
   "execution_count": 11,
   "id": "b440dd8a",
   "metadata": {},
   "outputs": [],
   "source": [
    "#Ignore Warnings\n",
    "import warnings\n",
    "warnings.filterwarnings(\"ignore\")"
   ]
  },
  {
   "cell_type": "code",
   "execution_count": 12,
   "id": "1f8d16f0",
   "metadata": {},
   "outputs": [
    {
     "name": "stdout",
     "output_type": "stream",
     "text": [
      "Requirement already satisfied: tensorflow-addons==0.21.0 in c:\\users\\veera\\anaconda3\\lib\\site-packages (0.21.0)\n",
      "Requirement already satisfied: typeguard<3.0.0,>=2.7 in c:\\users\\veera\\anaconda3\\lib\\site-packages (from tensorflow-addons==0.21.0) (2.13.3)\n",
      "Requirement already satisfied: packaging in c:\\users\\veera\\anaconda3\\lib\\site-packages (from tensorflow-addons==0.21.0) (21.3)\n",
      "Requirement already satisfied: pyparsing!=3.0.5,>=2.0.2 in c:\\users\\veera\\anaconda3\\lib\\site-packages (from packaging->tensorflow-addons==0.21.0) (3.0.9)\n"
     ]
    }
   ],
   "source": [
    "#Tensorflow Addons\n",
    "!pip install tensorflow-addons==0.21.0\n",
    "import tensorflow_addons as tfa"
   ]
  },
  {
   "cell_type": "code",
   "execution_count": 13,
   "id": "6869dfb8",
   "metadata": {},
   "outputs": [
    {
     "name": "stdout",
     "output_type": "stream",
     "text": [
      "TensorFlow Version: 2.12.0\n"
     ]
    }
   ],
   "source": [
    "#Tensorflow.......\n",
    "import tensorflow as tf\n",
    "from keras.utils.vis_utils import plot_model\n",
    "from tensorflow.keras import Sequential, Input\n",
    "from tensorflow.keras.layers import Dense, Dropout\n",
    "from tensorflow.keras.layers import Conv2D, Flatten\n",
    "from tensorflow.keras.callbacks import ReduceLROnPlateau\n",
    "from tensorflow.keras.applications.inception_v3 import InceptionV3\n",
    "from tensorflow.keras.preprocessing.image import ImageDataGenerator as IDG\n",
    "from tensorflow.keras.layers import SeparableConv2D, BatchNormalization, GlobalAveragePooling2D\n",
    "print(\"TensorFlow Version:\", tf.__version__)"
   ]
  },
  {
   "cell_type": "code",
   "execution_count": 15,
   "id": "f31fffd1",
   "metadata": {},
   "outputs": [
    {
     "name": "stdout",
     "output_type": "stream",
     "text": [
      "Collecting imblearn\n",
      "  Downloading imblearn-0.0-py2.py3-none-any.whl (1.9 kB)\n",
      "Collecting imbalanced-learn\n",
      "  Downloading imbalanced_learn-0.11.0-py3-none-any.whl (235 kB)\n",
      "     -------------------------------------- 235.6/235.6 kB 1.6 MB/s eta 0:00:00\n",
      "Requirement already satisfied: scipy>=1.5.0 in c:\\users\\veera\\anaconda3\\lib\\site-packages (from imbalanced-learn->imblearn) (1.9.1)\n",
      "Requirement already satisfied: numpy>=1.17.3 in c:\\users\\veera\\anaconda3\\lib\\site-packages (from imbalanced-learn->imblearn) (1.23.5)\n",
      "Requirement already satisfied: scikit-learn>=1.0.2 in c:\\users\\veera\\anaconda3\\lib\\site-packages (from imbalanced-learn->imblearn) (1.0.2)\n",
      "Collecting joblib>=1.1.1\n",
      "  Downloading joblib-1.3.2-py3-none-any.whl (302 kB)\n",
      "     -------------------------------------- 302.2/302.2 kB 3.7 MB/s eta 0:00:00\n",
      "Requirement already satisfied: threadpoolctl>=2.0.0 in c:\\users\\veera\\anaconda3\\lib\\site-packages (from imbalanced-learn->imblearn) (2.2.0)\n",
      "Installing collected packages: joblib, imbalanced-learn, imblearn\n",
      "  Attempting uninstall: joblib\n",
      "    Found existing installation: joblib 1.1.0\n",
      "    Uninstalling joblib-1.1.0:\n",
      "      Successfully uninstalled joblib-1.1.0\n",
      "Successfully installed imbalanced-learn-0.11.0 imblearn-0.0 joblib-1.3.2\n"
     ]
    }
   ],
   "source": [
    "# PIL - Python Image Library\n",
    "import os\n",
    "from distutils.dir_util import copy_tree, remove_tree\n",
    "\n",
    "from PIL import Image\n",
    "from random import randint\n",
    "\n",
    "!pip install imblearn\n",
    "from imblearn.over_sampling import SMOTE\n",
    "from sklearn.model_selection import train_test_split\n",
    "from sklearn.metrics import balanced_accuracy_score as BAS\n",
    "from sklearn.metrics import classification_report, confusion_matrix"
   ]
  },
  {
   "cell_type": "code",
   "execution_count": 16,
   "id": "e36740d4",
   "metadata": {},
   "outputs": [
    {
     "name": "stdout",
     "output_type": "stream",
     "text": [
      "Working Directory Contents: ['MildDemented', 'ModerateDemented', 'NonDemented', 'VeryMildDemented']\n"
     ]
    }
   ],
   "source": [
    "base_dir = \"C:/Users/veera/Desktop/Alzheimer_s Dataset/\"\n",
    "#base_dir: The path to the base directory containing the Alzheimer's dataset is stored in this variable. \n",
    "root_dir = \"./\"\n",
    "#root_dir: This variable denotes the location of the directory from which the code is being executed (\"./\").\n",
    "test_dir = base_dir + \"test/\"\n",
    "#test_dir: This variable stores the location of the base_dir's \"test\" subdirectory.\n",
    "train_dir = base_dir + \"train/\"\n",
    "#train_dir: This variable stores the location of the base_dir's \"train\" subdirectory.\n",
    "work_dir = root_dir + \"dataset/\"\n",
    "#work_dir: This variable designates the root_dir directory location where a new directory for working with the dataset will be created\n",
    "\n",
    "if os.path.exists(work_dir):\n",
    "    remove_tree(work_dir)\n",
    "# If already Present , it will remove --> to Make the datasets fresh    \n",
    "\n",
    "os.mkdir(work_dir)\n",
    "#Copying the train_dir, and test_dir into work_dir\n",
    "copy_tree(train_dir, work_dir)\n",
    "copy_tree(test_dir, work_dir)\n",
    "print(\"Working Directory Contents:\", os.listdir(work_dir))\n"
   ]
  },
  {
   "cell_type": "code",
   "execution_count": 17,
   "id": "34f82e97",
   "metadata": {},
   "outputs": [],
   "source": [
    "WORK_DIR = './dataset/'\n",
    "# Cuurent Working Directory\n",
    "classes = [ 'NonDemented',\n",
    "            'VeryMildDemented',\n",
    "            'MildDemented',\n",
    "            'ModerateDemented']\n",
    "# 4 Classes of disease --> level of severity\n",
    "img_dim = 176\n",
    "# target pic dimensions = 176(height) * 176(width)\n",
    "image_dim = [176, 176]\n",
    "dim = (img_dim, img_dim)\n",
    "# Ultimately img size = 176*176"
   ]
  },
  {
   "cell_type": "code",
   "execution_count": 18,
   "id": "37291ab8",
   "metadata": {
    "scrolled": false
   },
   "outputs": [
    {
     "name": "stdout",
     "output_type": "stream",
     "text": [
      "Found 6400 images belonging to 4 classes.\n"
     ]
    }
   ],
   "source": [
    "#Performing Image Augmentation as data is imbalanced so that we can have more data samples\n",
    "\n",
    "zoom = [.99, 1.01]\n",
    "bright_range = [0.8, 1.2]\n",
    "FILL_MODE = \"constant\"\n",
    "DATA_FORMAT = \"channels_last\"\n",
    "\n",
    "#IDG-->IMAGE DATA GENERATOR(AUGUMENTATION)\n",
    "work_dr = IDG(rescale = 1./255, brightness_range=bright_range, zoom_range=zoom, data_format=DATA_FORMAT, fill_mode=FILL_MODE, horizontal_flip=True)\n",
    "train_data_gen = work_dr.flow_from_directory(directory=WORK_DIR, target_size=dim, batch_size=6500, shuffle=False)\n",
    "\n",
    "#Sets up an ImageDataGenerator with specific augmentation settings and uses it to generate augmented image batches for training. \n"
   ]
  },
  {
   "cell_type": "code",
   "execution_count": 22,
   "id": "df37fc65",
   "metadata": {},
   "outputs": [
    {
     "data": {
      "text/plain": [
       "array([[[[0., 0., 0.],\n",
       "         [0., 0., 0.],\n",
       "         [0., 0., 0.],\n",
       "         ...,\n",
       "         [0., 0., 0.],\n",
       "         [0., 0., 0.],\n",
       "         [0., 0., 0.]],\n",
       "\n",
       "        [[0., 0., 0.],\n",
       "         [0., 0., 0.],\n",
       "         [0., 0., 0.],\n",
       "         ...,\n",
       "         [0., 0., 0.],\n",
       "         [0., 0., 0.],\n",
       "         [0., 0., 0.]],\n",
       "\n",
       "        [[0., 0., 0.],\n",
       "         [0., 0., 0.],\n",
       "         [0., 0., 0.],\n",
       "         ...,\n",
       "         [0., 0., 0.],\n",
       "         [0., 0., 0.],\n",
       "         [0., 0., 0.]],\n",
       "\n",
       "        ...,\n",
       "\n",
       "        [[0., 0., 0.],\n",
       "         [0., 0., 0.],\n",
       "         [0., 0., 0.],\n",
       "         ...,\n",
       "         [0., 0., 0.],\n",
       "         [0., 0., 0.],\n",
       "         [0., 0., 0.]],\n",
       "\n",
       "        [[0., 0., 0.],\n",
       "         [0., 0., 0.],\n",
       "         [0., 0., 0.],\n",
       "         ...,\n",
       "         [0., 0., 0.],\n",
       "         [0., 0., 0.],\n",
       "         [0., 0., 0.]],\n",
       "\n",
       "        [[0., 0., 0.],\n",
       "         [0., 0., 0.],\n",
       "         [0., 0., 0.],\n",
       "         ...,\n",
       "         [0., 0., 0.],\n",
       "         [0., 0., 0.],\n",
       "         [0., 0., 0.]]],\n",
       "\n",
       "\n",
       "       [[[0., 0., 0.],\n",
       "         [0., 0., 0.],\n",
       "         [0., 0., 0.],\n",
       "         ...,\n",
       "         [0., 0., 0.],\n",
       "         [0., 0., 0.],\n",
       "         [0., 0., 0.]],\n",
       "\n",
       "        [[0., 0., 0.],\n",
       "         [0., 0., 0.],\n",
       "         [0., 0., 0.],\n",
       "         ...,\n",
       "         [0., 0., 0.],\n",
       "         [0., 0., 0.],\n",
       "         [0., 0., 0.]],\n",
       "\n",
       "        [[0., 0., 0.],\n",
       "         [0., 0., 0.],\n",
       "         [0., 0., 0.],\n",
       "         ...,\n",
       "         [0., 0., 0.],\n",
       "         [0., 0., 0.],\n",
       "         [0., 0., 0.]],\n",
       "\n",
       "        ...,\n",
       "\n",
       "        [[0., 0., 0.],\n",
       "         [0., 0., 0.],\n",
       "         [0., 0., 0.],\n",
       "         ...,\n",
       "         [0., 0., 0.],\n",
       "         [0., 0., 0.],\n",
       "         [0., 0., 0.]],\n",
       "\n",
       "        [[0., 0., 0.],\n",
       "         [0., 0., 0.],\n",
       "         [0., 0., 0.],\n",
       "         ...,\n",
       "         [0., 0., 0.],\n",
       "         [0., 0., 0.],\n",
       "         [0., 0., 0.]],\n",
       "\n",
       "        [[0., 0., 0.],\n",
       "         [0., 0., 0.],\n",
       "         [0., 0., 0.],\n",
       "         ...,\n",
       "         [0., 0., 0.],\n",
       "         [0., 0., 0.],\n",
       "         [0., 0., 0.]]],\n",
       "\n",
       "\n",
       "       [[[0., 0., 0.],\n",
       "         [0., 0., 0.],\n",
       "         [0., 0., 0.],\n",
       "         ...,\n",
       "         [0., 0., 0.],\n",
       "         [0., 0., 0.],\n",
       "         [0., 0., 0.]],\n",
       "\n",
       "        [[0., 0., 0.],\n",
       "         [0., 0., 0.],\n",
       "         [0., 0., 0.],\n",
       "         ...,\n",
       "         [0., 0., 0.],\n",
       "         [0., 0., 0.],\n",
       "         [0., 0., 0.]],\n",
       "\n",
       "        [[0., 0., 0.],\n",
       "         [0., 0., 0.],\n",
       "         [0., 0., 0.],\n",
       "         ...,\n",
       "         [0., 0., 0.],\n",
       "         [0., 0., 0.],\n",
       "         [0., 0., 0.]],\n",
       "\n",
       "        ...,\n",
       "\n",
       "        [[0., 0., 0.],\n",
       "         [0., 0., 0.],\n",
       "         [0., 0., 0.],\n",
       "         ...,\n",
       "         [0., 0., 0.],\n",
       "         [0., 0., 0.],\n",
       "         [0., 0., 0.]],\n",
       "\n",
       "        [[0., 0., 0.],\n",
       "         [0., 0., 0.],\n",
       "         [0., 0., 0.],\n",
       "         ...,\n",
       "         [0., 0., 0.],\n",
       "         [0., 0., 0.],\n",
       "         [0., 0., 0.]],\n",
       "\n",
       "        [[0., 0., 0.],\n",
       "         [0., 0., 0.],\n",
       "         [0., 0., 0.],\n",
       "         ...,\n",
       "         [0., 0., 0.],\n",
       "         [0., 0., 0.],\n",
       "         [0., 0., 0.]]],\n",
       "\n",
       "\n",
       "       ...,\n",
       "\n",
       "\n",
       "       [[[0., 0., 0.],\n",
       "         [0., 0., 0.],\n",
       "         [0., 0., 0.],\n",
       "         ...,\n",
       "         [0., 0., 0.],\n",
       "         [0., 0., 0.],\n",
       "         [0., 0., 0.]],\n",
       "\n",
       "        [[0., 0., 0.],\n",
       "         [0., 0., 0.],\n",
       "         [0., 0., 0.],\n",
       "         ...,\n",
       "         [0., 0., 0.],\n",
       "         [0., 0., 0.],\n",
       "         [0., 0., 0.]],\n",
       "\n",
       "        [[0., 0., 0.],\n",
       "         [0., 0., 0.],\n",
       "         [0., 0., 0.],\n",
       "         ...,\n",
       "         [0., 0., 0.],\n",
       "         [0., 0., 0.],\n",
       "         [0., 0., 0.]],\n",
       "\n",
       "        ...,\n",
       "\n",
       "        [[0., 0., 0.],\n",
       "         [0., 0., 0.],\n",
       "         [0., 0., 0.],\n",
       "         ...,\n",
       "         [0., 0., 0.],\n",
       "         [0., 0., 0.],\n",
       "         [0., 0., 0.]],\n",
       "\n",
       "        [[0., 0., 0.],\n",
       "         [0., 0., 0.],\n",
       "         [0., 0., 0.],\n",
       "         ...,\n",
       "         [0., 0., 0.],\n",
       "         [0., 0., 0.],\n",
       "         [0., 0., 0.]],\n",
       "\n",
       "        [[0., 0., 0.],\n",
       "         [0., 0., 0.],\n",
       "         [0., 0., 0.],\n",
       "         ...,\n",
       "         [0., 0., 0.],\n",
       "         [0., 0., 0.],\n",
       "         [0., 0., 0.]]],\n",
       "\n",
       "\n",
       "       [[[0., 0., 0.],\n",
       "         [0., 0., 0.],\n",
       "         [0., 0., 0.],\n",
       "         ...,\n",
       "         [0., 0., 0.],\n",
       "         [0., 0., 0.],\n",
       "         [0., 0., 0.]],\n",
       "\n",
       "        [[0., 0., 0.],\n",
       "         [0., 0., 0.],\n",
       "         [0., 0., 0.],\n",
       "         ...,\n",
       "         [0., 0., 0.],\n",
       "         [0., 0., 0.],\n",
       "         [0., 0., 0.]],\n",
       "\n",
       "        [[0., 0., 0.],\n",
       "         [0., 0., 0.],\n",
       "         [0., 0., 0.],\n",
       "         ...,\n",
       "         [0., 0., 0.],\n",
       "         [0., 0., 0.],\n",
       "         [0., 0., 0.]],\n",
       "\n",
       "        ...,\n",
       "\n",
       "        [[0., 0., 0.],\n",
       "         [0., 0., 0.],\n",
       "         [0., 0., 0.],\n",
       "         ...,\n",
       "         [0., 0., 0.],\n",
       "         [0., 0., 0.],\n",
       "         [0., 0., 0.]],\n",
       "\n",
       "        [[0., 0., 0.],\n",
       "         [0., 0., 0.],\n",
       "         [0., 0., 0.],\n",
       "         ...,\n",
       "         [0., 0., 0.],\n",
       "         [0., 0., 0.],\n",
       "         [0., 0., 0.]],\n",
       "\n",
       "        [[0., 0., 0.],\n",
       "         [0., 0., 0.],\n",
       "         [0., 0., 0.],\n",
       "         ...,\n",
       "         [0., 0., 0.],\n",
       "         [0., 0., 0.],\n",
       "         [0., 0., 0.]]],\n",
       "\n",
       "\n",
       "       [[[0., 0., 0.],\n",
       "         [0., 0., 0.],\n",
       "         [0., 0., 0.],\n",
       "         ...,\n",
       "         [0., 0., 0.],\n",
       "         [0., 0., 0.],\n",
       "         [0., 0., 0.]],\n",
       "\n",
       "        [[0., 0., 0.],\n",
       "         [0., 0., 0.],\n",
       "         [0., 0., 0.],\n",
       "         ...,\n",
       "         [0., 0., 0.],\n",
       "         [0., 0., 0.],\n",
       "         [0., 0., 0.]],\n",
       "\n",
       "        [[0., 0., 0.],\n",
       "         [0., 0., 0.],\n",
       "         [0., 0., 0.],\n",
       "         ...,\n",
       "         [0., 0., 0.],\n",
       "         [0., 0., 0.],\n",
       "         [0., 0., 0.]],\n",
       "\n",
       "        ...,\n",
       "\n",
       "        [[0., 0., 0.],\n",
       "         [0., 0., 0.],\n",
       "         [0., 0., 0.],\n",
       "         ...,\n",
       "         [0., 0., 0.],\n",
       "         [0., 0., 0.],\n",
       "         [0., 0., 0.]],\n",
       "\n",
       "        [[0., 0., 0.],\n",
       "         [0., 0., 0.],\n",
       "         [0., 0., 0.],\n",
       "         ...,\n",
       "         [0., 0., 0.],\n",
       "         [0., 0., 0.],\n",
       "         [0., 0., 0.]],\n",
       "\n",
       "        [[0., 0., 0.],\n",
       "         [0., 0., 0.],\n",
       "         [0., 0., 0.],\n",
       "         ...,\n",
       "         [0., 0., 0.],\n",
       "         [0., 0., 0.],\n",
       "         [0., 0., 0.]]]], dtype=float32)"
      ]
     },
     "execution_count": 22,
     "metadata": {},
     "output_type": "execute_result"
    }
   ],
   "source": [
    "train_data_gen.next()[0]"
   ]
  },
  {
   "cell_type": "code",
   "execution_count": 23,
   "id": "195579f2",
   "metadata": {},
   "outputs": [],
   "source": [
    "train_data, train_labels = train_data_gen.next()\n",
    "\"\"\"next() on the generator, it generates and returns the next batch of data and labels \n",
    "based on the settings you provided earlier. \n",
    "The generator automatically advances its internal state to prepare the next batch\"\"\"\n",
    "#####-------\n",
    "\"\"\"train_data will contain a batch of 6500 augmented images, \n",
    "and train_labels will contain the corresponding labels for these images.\n",
    "\"\"\""
   ]
  },
  {
   "cell_type": "code",
   "execution_count": 24,
   "id": "43389b7f",
   "metadata": {},
   "outputs": [
    {
     "name": "stdout",
     "output_type": "stream",
     "text": [
      "(6400, 176, 176, 3) (6400, 4)\n"
     ]
    },
    {
     "data": {
      "text/plain": [
       "'batch of 6500 images, each with dimensions 176x176 pixels and 3 color channels (assuming RGB images), \\nand the corresponding labels are one-hot encoded with 4 classes.'"
      ]
     },
     "execution_count": 24,
     "metadata": {},
     "output_type": "execute_result"
    }
   ],
   "source": [
    "print(train_data.shape, train_labels.shape)\n",
    "\"\"\"batch of 6500 images, each with dimensions 176x176 pixels and 3 color channels (assuming RGB images), \n",
    "and the corresponding labels are one-hot encoded with 4 classes.\"\"\""
   ]
  },
  {
   "cell_type": "code",
   "execution_count": 25,
   "id": "1b5c4083",
   "metadata": {},
   "outputs": [
    {
     "name": "stdout",
     "output_type": "stream",
     "text": [
      "(12800, 176, 176, 3) (12800, 4)\n"
     ]
    }
   ],
   "source": [
    "# SMOTE --> Synthetic Minority Over-sampling Technique  --> For Imbalance\n",
    "sm = SMOTE(random_state=42) # to reduce variety\n",
    "train_data, train_labels = sm.fit_resample(train_data.reshape(-1, img_dim * img_dim * 3), train_labels) # flattening the train_data\n",
    "train_data = train_data.reshape(-1, img_dim, img_dim, 3)# getting back into original (176*176*3)\n",
    "print(train_data.shape, train_labels.shape) # printing the size\n",
    "\n",
    "## RESULT --> THE SIZE OF DATASET IS INCREASED"
   ]
  },
  {
   "cell_type": "code",
   "execution_count": 26,
   "id": "5c55c98a",
   "metadata": {},
   "outputs": [],
   "source": [
    "#Splitting the data into train, test, and validation sets\n",
    "train_data, test_data, train_labels, test_labels = train_test_split(train_data, train_labels, test_size = 0.25, random_state=42)\n",
    "train_data, val_data, train_labels, val_labels = train_test_split(train_data, train_labels, test_size = 0.25, random_state=42)"
   ]
  },
  {
   "cell_type": "markdown",
   "id": "313008dc",
   "metadata": {},
   "source": [
    "# MODEL"
   ]
  },
  {
   "cell_type": "code",
   "execution_count": 27,
   "id": "f7668eaa",
   "metadata": {},
   "outputs": [
    {
     "name": "stdout",
     "output_type": "stream",
     "text": [
      "Downloading data from https://storage.googleapis.com/tensorflow/keras-applications/inception_v3/inception_v3_weights_tf_dim_ordering_tf_kernels_notop.h5\n",
      "87910968/87910968 [==============================] - 11s 0us/step\n"
     ]
    }
   ],
   "source": [
    "inception_model = InceptionV3(input_shape=(176, 176, 3), include_top=False, weights=\"imagenet\")\n",
    "# Pretrained Model.\n",
    "# input shape = (176*176*3)--> The network can accept the image which has dimensions .\n",
    "# include_top = False -----> The last classification layer of V3 is removed to add customizations to the network\n",
    "# weights = imagenet --> Already pretrained weights are used , so training will finish fast."
   ]
  },
  {
   "cell_type": "code",
   "execution_count": 28,
   "id": "0caabdd5",
   "metadata": {},
   "outputs": [],
   "source": [
    "for layer in inception_model.layers:\n",
    "    layer.trainable=False\n",
    "# This effectively freezes the weights of all layers in the model, \n",
    "# preventing them from being updated during the training process.\n",
    "# By keeping the pre-trained weights fixed, you can use the knowledge the model has gained from a larger dataset, \n",
    "# and you only update the weights of your custom layers during training."
   ]
  },
  {
   "cell_type": "code",
   "execution_count": 39,
   "id": "d8266eb1",
   "metadata": {},
   "outputs": [],
   "source": [
    "# Total CNN = V3 + Inception_cnn_model(added newly)\n",
    "my_inception_model = Sequential([\n",
    "        inception_model,Dropout(0.5),GlobalAveragePooling2D(),\n",
    "        Flatten(),\n",
    "        BatchNormalization(),\n",
    "        Dense(512, activation='relu'),BatchNormalization(),\n",
    "        Dropout(0.5),\n",
    "        Dense(256, activation='relu'),BatchNormalization(),\n",
    "        Dropout(0.5),\n",
    "        Dense(128, activation='relu'),BatchNormalization(),\n",
    "        Dropout(0.5),\n",
    "        Dense(64, activation='relu'),BatchNormalization(),\n",
    "        Dropout(0.5),\n",
    "        Dense(16, activation='relu'), \n",
    "        Dropout(0.5),\n",
    "        Dense(4, activation='softmax')], name = \"new_network\")\n",
    "# seuential -> one layer after another\n",
    "# Dropout -> to reduce overfitting by dropping randomly 50% of nuerons\n",
    "# GlobalAveragePooling2D -> Minimizing spatial dimension while retain features\n",
    "# Flatten -> Convert to 1D array\n",
    "# Dense = Fully connected layers\n",
    "# relu -> activation Function"
   ]
  },
  {
   "cell_type": "code",
   "execution_count": 40,
   "id": "0b49fd31",
   "metadata": {},
   "outputs": [],
   "source": [
    "class MyCallback(tf.keras.callbacks.Callback):\n",
    "    def on_epoch_end(self, epoch, logs={}):\n",
    "        if logs.get('acc') > 0.95:\n",
    "            print(\"\\nReached accuracy threshold! Terminating training.\")\n",
    "            self.model.stop_training = True\n",
    "                 \n",
    "my_callback = MyCallback()\n",
    "#To stop if the accuracy reaches 95\n",
    "\n",
    "\n",
    "#Adjustment of learning rate with validation Loss\n",
    "rop_callback = ReduceLROnPlateau(monitor=\"val_loss\", patience=3)"
   ]
  },
  {
   "cell_type": "code",
   "execution_count": 41,
   "id": "52c16626",
   "metadata": {},
   "outputs": [
    {
     "name": "stdout",
     "output_type": "stream",
     "text": [
      "Model: \"new_network\"\n",
      "_________________________________________________________________\n",
      " Layer (type)                Output Shape              Param #   \n",
      "=================================================================\n",
      " inception_v3 (Functional)   (None, 4, 4, 2048)        21802784  \n",
      "                                                                 \n",
      " dropout_18 (Dropout)        (None, 4, 4, 2048)        0         \n",
      "                                                                 \n",
      " global_average_pooling2d_3   (None, 2048)             0         \n",
      " (GlobalAveragePooling2D)                                        \n",
      "                                                                 \n",
      " flatten_3 (Flatten)         (None, 2048)              0         \n",
      "                                                                 \n",
      " batch_normalization_109 (Ba  (None, 2048)             8192      \n",
      " tchNormalization)                                               \n",
      "                                                                 \n",
      " dense_18 (Dense)            (None, 512)               1049088   \n",
      "                                                                 \n",
      " batch_normalization_110 (Ba  (None, 512)              2048      \n",
      " tchNormalization)                                               \n",
      "                                                                 \n",
      " dropout_19 (Dropout)        (None, 512)               0         \n",
      "                                                                 \n",
      " dense_19 (Dense)            (None, 256)               131328    \n",
      "                                                                 \n",
      " batch_normalization_111 (Ba  (None, 256)              1024      \n",
      " tchNormalization)                                               \n",
      "                                                                 \n",
      " dropout_20 (Dropout)        (None, 256)               0         \n",
      "                                                                 \n",
      " dense_20 (Dense)            (None, 128)               32896     \n",
      "                                                                 \n",
      " batch_normalization_112 (Ba  (None, 128)              512       \n",
      " tchNormalization)                                               \n",
      "                                                                 \n",
      " dropout_21 (Dropout)        (None, 128)               0         \n",
      "                                                                 \n",
      " dense_21 (Dense)            (None, 64)                8256      \n",
      "                                                                 \n",
      " batch_normalization_113 (Ba  (None, 64)               256       \n",
      " tchNormalization)                                               \n",
      "                                                                 \n",
      " dropout_22 (Dropout)        (None, 64)                0         \n",
      "                                                                 \n",
      " dense_22 (Dense)            (None, 16)                1040      \n",
      "                                                                 \n",
      " dropout_23 (Dropout)        (None, 16)                0         \n",
      "                                                                 \n",
      " dense_23 (Dense)            (None, 4)                 68        \n",
      "                                                                 \n",
      "=================================================================\n",
      "Total params: 23,037,492\n",
      "Trainable params: 1,228,692\n",
      "Non-trainable params: 21,808,800\n",
      "_________________________________________________________________\n"
     ]
    }
   ],
   "source": [
    "# List of Metrics to evaluate models performance\n",
    "METRICS = [tf.keras.metrics.CategoricalAccuracy(name='acc'),\n",
    "           tf.keras.metrics.AUC(name='auc'),\n",
    "           tfa.metrics.F1Score(num_classes=4)]\n",
    "\n",
    "# To Stop Training and adjusting the learning rate\n",
    "CALLBACKS = [my_callback, rop_callback]\n",
    "my_inception_model.compile(optimizer='rmsprop',loss=tf.losses.CategoricalCrossentropy(),metrics=METRICS)\n",
    "# summary of model\n",
    "my_inception_model.summary()"
   ]
  },
  {
   "cell_type": "code",
   "execution_count": 43,
   "id": "0d3f3308",
   "metadata": {},
   "outputs": [
    {
     "name": "stdout",
     "output_type": "stream",
     "text": [
      "Epoch 1/50\n",
      "225/225 [==============================] - 223s 995ms/step - loss: 1.1962 - acc: 0.4444 - auc: 0.7328 - f1_score: 0.4262 - val_loss: 0.8709 - val_acc: 0.5904 - val_auc: 0.8545 - val_f1_score: 0.5513 - lr: 0.0010\n",
      "Epoch 2/50\n",
      "225/225 [==============================] - 220s 979ms/step - loss: 0.9852 - acc: 0.5292 - auc: 0.8145 - f1_score: 0.5086 - val_loss: 0.7654 - val_acc: 0.6237 - val_auc: 0.8820 - val_f1_score: 0.5831 - lr: 0.0010\n",
      "Epoch 3/50\n",
      "225/225 [==============================] - 219s 976ms/step - loss: 0.8859 - acc: 0.5860 - auc: 0.8535 - f1_score: 0.5568 - val_loss: 0.7206 - val_acc: 0.6454 - val_auc: 0.8975 - val_f1_score: 0.6106 - lr: 0.0010\n",
      "Epoch 4/50\n",
      "225/225 [==============================] - 218s 971ms/step - loss: 0.8185 - acc: 0.6228 - auc: 0.8771 - f1_score: 0.5975 - val_loss: 0.6890 - val_acc: 0.6604 - val_auc: 0.9069 - val_f1_score: 0.6317 - lr: 0.0010\n",
      "Epoch 5/50\n",
      "225/225 [==============================] - 218s 969ms/step - loss: 0.7960 - acc: 0.6424 - auc: 0.8857 - f1_score: 0.6221 - val_loss: 0.6513 - val_acc: 0.6883 - val_auc: 0.9173 - val_f1_score: 0.6691 - lr: 0.0010\n",
      "Epoch 6/50\n",
      "225/225 [==============================] - 219s 972ms/step - loss: 0.7712 - acc: 0.6528 - auc: 0.8935 - f1_score: 0.6347 - val_loss: 0.6367 - val_acc: 0.7008 - val_auc: 0.9229 - val_f1_score: 0.6827 - lr: 0.0010\n",
      "Epoch 7/50\n",
      "225/225 [==============================] - 217s 966ms/step - loss: 0.7341 - acc: 0.6753 - auc: 0.9031 - f1_score: 0.6581 - val_loss: 0.6143 - val_acc: 0.7029 - val_auc: 0.9264 - val_f1_score: 0.6883 - lr: 0.0010\n",
      "Epoch 8/50\n",
      "225/225 [==============================] - 216s 963ms/step - loss: 0.7276 - acc: 0.6775 - auc: 0.9057 - f1_score: 0.6631 - val_loss: 0.6182 - val_acc: 0.6967 - val_auc: 0.9247 - val_f1_score: 0.6890 - lr: 0.0010\n",
      "Epoch 9/50\n",
      "225/225 [==============================] - 218s 969ms/step - loss: 0.7137 - acc: 0.6818 - auc: 0.9098 - f1_score: 0.6681 - val_loss: 0.5897 - val_acc: 0.7196 - val_auc: 0.9335 - val_f1_score: 0.7170 - lr: 0.0010\n",
      "Epoch 10/50\n",
      "225/225 [==============================] - 216s 959ms/step - loss: 0.7069 - acc: 0.6882 - auc: 0.9127 - f1_score: 0.6781 - val_loss: 0.5790 - val_acc: 0.7200 - val_auc: 0.9357 - val_f1_score: 0.7179 - lr: 0.0010\n",
      "Epoch 11/50\n",
      "225/225 [==============================] - 215s 959ms/step - loss: 0.6872 - acc: 0.6935 - auc: 0.9168 - f1_score: 0.6832 - val_loss: 0.5519 - val_acc: 0.7375 - val_auc: 0.9413 - val_f1_score: 0.7385 - lr: 0.0010\n",
      "Epoch 12/50\n",
      "225/225 [==============================] - 214s 953ms/step - loss: 0.6776 - acc: 0.7031 - auc: 0.9204 - f1_score: 0.6941 - val_loss: 0.5493 - val_acc: 0.7383 - val_auc: 0.9417 - val_f1_score: 0.7360 - lr: 0.0010\n",
      "Epoch 13/50\n",
      "225/225 [==============================] - 214s 950ms/step - loss: 0.6744 - acc: 0.7019 - auc: 0.9209 - f1_score: 0.6937 - val_loss: 0.5328 - val_acc: 0.7542 - val_auc: 0.9463 - val_f1_score: 0.7543 - lr: 0.0010\n",
      "Epoch 14/50\n",
      "225/225 [==============================] - 214s 951ms/step - loss: 0.6517 - acc: 0.7122 - auc: 0.9261 - f1_score: 0.7057 - val_loss: 0.5346 - val_acc: 0.7471 - val_auc: 0.9456 - val_f1_score: 0.7512 - lr: 0.0010\n",
      "Epoch 15/50\n",
      "225/225 [==============================] - 213s 950ms/step - loss: 0.6396 - acc: 0.7156 - auc: 0.9277 - f1_score: 0.7083 - val_loss: 0.5232 - val_acc: 0.7433 - val_auc: 0.9463 - val_f1_score: 0.7415 - lr: 0.0010\n",
      "Epoch 16/50\n",
      "225/225 [==============================] - 214s 953ms/step - loss: 0.6218 - acc: 0.7274 - auc: 0.9325 - f1_score: 0.7207 - val_loss: 0.5067 - val_acc: 0.7654 - val_auc: 0.9511 - val_f1_score: 0.7679 - lr: 0.0010\n",
      "Epoch 17/50\n",
      "225/225 [==============================] - 215s 957ms/step - loss: 0.6305 - acc: 0.7165 - auc: 0.9303 - f1_score: 0.7090 - val_loss: 0.5057 - val_acc: 0.7625 - val_auc: 0.9505 - val_f1_score: 0.7666 - lr: 0.0010\n",
      "Epoch 18/50\n",
      "225/225 [==============================] - 212s 942ms/step - loss: 0.6313 - acc: 0.7268 - auc: 0.9315 - f1_score: 0.7203 - val_loss: 0.4971 - val_acc: 0.7642 - val_auc: 0.9522 - val_f1_score: 0.7652 - lr: 0.0010\n",
      "Epoch 19/50\n",
      "225/225 [==============================] - 213s 946ms/step - loss: 0.6062 - acc: 0.7353 - auc: 0.9355 - f1_score: 0.7291 - val_loss: 0.4930 - val_acc: 0.7646 - val_auc: 0.9531 - val_f1_score: 0.7678 - lr: 0.0010\n",
      "Epoch 20/50\n",
      "225/225 [==============================] - 211s 940ms/step - loss: 0.6164 - acc: 0.7478 - auc: 0.9367 - f1_score: 0.7429 - val_loss: 0.4945 - val_acc: 0.7671 - val_auc: 0.9535 - val_f1_score: 0.7720 - lr: 0.0010\n",
      "Epoch 21/50\n",
      "225/225 [==============================] - 211s 939ms/step - loss: 0.5928 - acc: 0.7479 - auc: 0.9405 - f1_score: 0.7436 - val_loss: 0.4691 - val_acc: 0.7696 - val_auc: 0.9565 - val_f1_score: 0.7718 - lr: 0.0010\n",
      "Epoch 22/50\n",
      "225/225 [==============================] - 210s 934ms/step - loss: 0.5941 - acc: 0.7506 - auc: 0.9404 - f1_score: 0.7465 - val_loss: 0.4779 - val_acc: 0.7742 - val_auc: 0.9554 - val_f1_score: 0.7763 - lr: 0.0010\n",
      "Epoch 23/50\n",
      "225/225 [==============================] - 212s 941ms/step - loss: 0.5713 - acc: 0.7585 - auc: 0.9445 - f1_score: 0.7547 - val_loss: 0.4797 - val_acc: 0.7817 - val_auc: 0.9558 - val_f1_score: 0.7829 - lr: 0.0010\n",
      "Epoch 24/50\n",
      "225/225 [==============================] - 210s 933ms/step - loss: 0.5819 - acc: 0.7611 - auc: 0.9425 - f1_score: 0.7575 - val_loss: 0.4498 - val_acc: 0.7879 - val_auc: 0.9603 - val_f1_score: 0.7927 - lr: 0.0010\n",
      "Epoch 25/50\n",
      "225/225 [==============================] - 210s 935ms/step - loss: 0.5573 - acc: 0.7690 - auc: 0.9464 - f1_score: 0.7656 - val_loss: 0.4862 - val_acc: 0.7837 - val_auc: 0.9554 - val_f1_score: 0.7836 - lr: 0.0010\n",
      "Epoch 26/50\n",
      "225/225 [==============================] - 209s 931ms/step - loss: 0.5379 - acc: 0.7657 - auc: 0.9483 - f1_score: 0.7613 - val_loss: 0.4497 - val_acc: 0.7883 - val_auc: 0.9604 - val_f1_score: 0.7914 - lr: 0.0010\n",
      "Epoch 27/50\n",
      "225/225 [==============================] - 208s 927ms/step - loss: 0.5402 - acc: 0.7753 - auc: 0.9502 - f1_score: 0.7723 - val_loss: 0.4456 - val_acc: 0.7979 - val_auc: 0.9617 - val_f1_score: 0.8018 - lr: 0.0010\n",
      "Epoch 28/50\n",
      "225/225 [==============================] - 220s 978ms/step - loss: 0.5502 - acc: 0.7700 - auc: 0.9491 - f1_score: 0.7656 - val_loss: 0.4445 - val_acc: 0.8017 - val_auc: 0.9632 - val_f1_score: 0.8037 - lr: 0.0010\n",
      "Epoch 29/50\n",
      "225/225 [==============================] - 212s 941ms/step - loss: 0.5229 - acc: 0.7824 - auc: 0.9521 - f1_score: 0.7795 - val_loss: 0.4429 - val_acc: 0.8025 - val_auc: 0.9631 - val_f1_score: 0.8056 - lr: 0.0010\n",
      "Epoch 30/50\n",
      "225/225 [==============================] - 208s 924ms/step - loss: 0.5263 - acc: 0.7869 - auc: 0.9532 - f1_score: 0.7835 - val_loss: 0.4485 - val_acc: 0.8042 - val_auc: 0.9620 - val_f1_score: 0.8107 - lr: 0.0010\n",
      "Epoch 31/50\n",
      "225/225 [==============================] - 208s 925ms/step - loss: 0.5360 - acc: 0.7801 - auc: 0.9514 - f1_score: 0.7769 - val_loss: 0.4423 - val_acc: 0.8012 - val_auc: 0.9629 - val_f1_score: 0.8032 - lr: 0.0010\n",
      "Epoch 32/50\n",
      "225/225 [==============================] - 209s 928ms/step - loss: 0.5320 - acc: 0.7853 - auc: 0.9534 - f1_score: 0.7820 - val_loss: 0.4376 - val_acc: 0.7983 - val_auc: 0.9633 - val_f1_score: 0.8006 - lr: 0.0010\n",
      "Epoch 33/50\n",
      "225/225 [==============================] - 208s 927ms/step - loss: 0.5357 - acc: 0.7846 - auc: 0.9520 - f1_score: 0.7812 - val_loss: 0.4310 - val_acc: 0.8033 - val_auc: 0.9647 - val_f1_score: 0.8057 - lr: 0.0010\n",
      "Epoch 34/50\n",
      "225/225 [==============================] - 207s 922ms/step - loss: 0.5130 - acc: 0.7958 - auc: 0.9568 - f1_score: 0.7932 - val_loss: 0.4231 - val_acc: 0.8075 - val_auc: 0.9660 - val_f1_score: 0.8101 - lr: 0.0010\n",
      "Epoch 35/50\n",
      "225/225 [==============================] - 207s 923ms/step - loss: 0.5218 - acc: 0.7956 - auc: 0.9560 - f1_score: 0.7934 - val_loss: 0.4308 - val_acc: 0.8079 - val_auc: 0.9650 - val_f1_score: 0.8100 - lr: 0.0010\n",
      "Epoch 36/50\n",
      "225/225 [==============================] - 208s 926ms/step - loss: 0.5329 - acc: 0.8010 - auc: 0.9546 - f1_score: 0.7989 - val_loss: 0.4517 - val_acc: 0.8067 - val_auc: 0.9630 - val_f1_score: 0.8070 - lr: 0.0010\n",
      "Epoch 37/50\n",
      "225/225 [==============================] - 208s 925ms/step - loss: 0.5184 - acc: 0.7974 - auc: 0.9556 - f1_score: 0.7956 - val_loss: 0.4401 - val_acc: 0.8083 - val_auc: 0.9644 - val_f1_score: 0.8120 - lr: 0.0010\n",
      "Epoch 38/50\n",
      "225/225 [==============================] - 206s 919ms/step - loss: 0.4868 - acc: 0.8014 - auc: 0.9584 - f1_score: 0.7986 - val_loss: 0.4250 - val_acc: 0.8167 - val_auc: 0.9667 - val_f1_score: 0.8188 - lr: 1.0000e-04\n",
      "Epoch 39/50\n",
      "225/225 [==============================] - 206s 916ms/step - loss: 0.4557 - acc: 0.8118 - auc: 0.9632 - f1_score: 0.8100 - val_loss: 0.4184 - val_acc: 0.8208 - val_auc: 0.9676 - val_f1_score: 0.8234 - lr: 1.0000e-04\n",
      "Epoch 40/50\n",
      "225/225 [==============================] - 206s 915ms/step - loss: 0.4570 - acc: 0.8151 - auc: 0.9633 - f1_score: 0.8131 - val_loss: 0.4112 - val_acc: 0.8254 - val_auc: 0.9683 - val_f1_score: 0.8280 - lr: 1.0000e-04\n",
      "Epoch 41/50\n",
      "225/225 [==============================] - 207s 922ms/step - loss: 0.4701 - acc: 0.8111 - auc: 0.9622 - f1_score: 0.8092 - val_loss: 0.4064 - val_acc: 0.8238 - val_auc: 0.9693 - val_f1_score: 0.8262 - lr: 1.0000e-04\n",
      "Epoch 42/50\n",
      "225/225 [==============================] - 206s 917ms/step - loss: 0.4492 - acc: 0.8251 - auc: 0.9651 - f1_score: 0.8230 - val_loss: 0.4098 - val_acc: 0.8221 - val_auc: 0.9688 - val_f1_score: 0.8248 - lr: 1.0000e-04\n",
      "Epoch 43/50\n",
      "225/225 [==============================] - 220s 978ms/step - loss: 0.4564 - acc: 0.8222 - auc: 0.9649 - f1_score: 0.8196 - val_loss: 0.4061 - val_acc: 0.8242 - val_auc: 0.9694 - val_f1_score: 0.8271 - lr: 1.0000e-04\n",
      "Epoch 44/50\n",
      "225/225 [==============================] - 217s 964ms/step - loss: 0.4606 - acc: 0.8111 - auc: 0.9626 - f1_score: 0.8088 - val_loss: 0.4049 - val_acc: 0.8246 - val_auc: 0.9697 - val_f1_score: 0.8270 - lr: 1.0000e-04\n",
      "Epoch 45/50\n",
      "225/225 [==============================] - 218s 969ms/step - loss: 0.4483 - acc: 0.8188 - auc: 0.9650 - f1_score: 0.8162 - val_loss: 0.4061 - val_acc: 0.8258 - val_auc: 0.9698 - val_f1_score: 0.8285 - lr: 1.0000e-04\n",
      "Epoch 46/50\n",
      "225/225 [==============================] - 206s 919ms/step - loss: 0.4652 - acc: 0.8174 - auc: 0.9633 - f1_score: 0.8157 - val_loss: 0.4066 - val_acc: 0.8271 - val_auc: 0.9697 - val_f1_score: 0.8298 - lr: 1.0000e-04\n",
      "Epoch 47/50\n",
      "225/225 [==============================] - 206s 915ms/step - loss: 0.4293 - acc: 0.8253 - auc: 0.9670 - f1_score: 0.8227 - val_loss: 0.4082 - val_acc: 0.8258 - val_auc: 0.9699 - val_f1_score: 0.8280 - lr: 1.0000e-04\n",
      "Epoch 48/50\n",
      "225/225 [==============================] - 206s 917ms/step - loss: 0.4338 - acc: 0.8286 - auc: 0.9675 - f1_score: 0.8263 - val_loss: 0.4081 - val_acc: 0.8246 - val_auc: 0.9696 - val_f1_score: 0.8268 - lr: 1.0000e-05\n",
      "Epoch 49/50\n",
      "225/225 [==============================] - 206s 915ms/step - loss: 0.4477 - acc: 0.8175 - auc: 0.9641 - f1_score: 0.8147 - val_loss: 0.4080 - val_acc: 0.8250 - val_auc: 0.9697 - val_f1_score: 0.8272 - lr: 1.0000e-05\n",
      "Epoch 50/50\n",
      "225/225 [==============================] - 207s 922ms/step - loss: 0.4428 - acc: 0.8263 - auc: 0.9661 - f1_score: 0.8242 - val_loss: 0.4074 - val_acc: 0.8258 - val_auc: 0.9697 - val_f1_score: 0.8279 - lr: 1.0000e-05\n"
     ]
    }
   ],
   "source": [
    "history = my_inception_model.fit(train_data, train_labels, validation_data=(val_data, val_labels), callbacks=CALLBACKS, epochs=50)"
   ]
  },
  {
   "cell_type": "code",
   "execution_count": 57,
   "id": "dce22c24",
   "metadata": {},
   "outputs": [
    {
     "data": {
      "text/plain": [
       "[0.4444444477558136,\n",
       " 0.5291666388511658,\n",
       " 0.585972249507904,\n",
       " 0.6227777600288391,\n",
       " 0.6423611044883728,\n",
       " 0.6527777910232544,\n",
       " 0.6752777695655823,\n",
       " 0.6775000095367432,\n",
       " 0.6818055510520935,\n",
       " 0.6881944537162781,\n",
       " 0.6934722065925598,\n",
       " 0.7030555605888367,\n",
       " 0.7019444704055786,\n",
       " 0.7122222185134888,\n",
       " 0.7155555486679077,\n",
       " 0.7273610830307007,\n",
       " 0.7165277600288391,\n",
       " 0.726805567741394,\n",
       " 0.7352777719497681,\n",
       " 0.7477777600288391,\n",
       " 0.7479166388511658,\n",
       " 0.7505555748939514,\n",
       " 0.758472204208374,\n",
       " 0.7611111402511597,\n",
       " 0.7690277695655823,\n",
       " 0.7656944394111633,\n",
       " 0.7752777934074402,\n",
       " 0.7699999809265137,\n",
       " 0.7823610901832581,\n",
       " 0.7869444489479065,\n",
       " 0.7801389098167419,\n",
       " 0.785277783870697,\n",
       " 0.784583330154419,\n",
       " 0.7958333492279053,\n",
       " 0.7955555319786072,\n",
       " 0.8009722232818604,\n",
       " 0.7973611354827881,\n",
       " 0.8013888597488403,\n",
       " 0.8118055462837219,\n",
       " 0.8151388764381409,\n",
       " 0.8111110925674438,\n",
       " 0.8251388669013977,\n",
       " 0.8222222328186035,\n",
       " 0.8111110925674438,\n",
       " 0.8187500238418579,\n",
       " 0.8173611164093018,\n",
       " 0.8252778053283691,\n",
       " 0.8286111354827881,\n",
       " 0.8174999952316284,\n",
       " 0.8262500166893005]"
      ]
     },
     "execution_count": 57,
     "metadata": {},
     "output_type": "execute_result"
    }
   ],
   "source": [
    "history.history['acc']"
   ]
  },
  {
   "cell_type": "code",
   "execution_count": 56,
   "id": "64d5d559",
   "metadata": {},
   "outputs": [
    {
     "data": {
      "image/png": "[encoded data removed]",
      "text/plain": [
       "<Figure size 640x480 with 1 Axes>"
      ]
     },
     "metadata": {},
     "output_type": "display_data"
    }
   ],
   "source": [
    "plt.plot(history.history['acc'])\n",
    "plt.plot(history.history[\"val_\" + 'acc'])\n",
    "plt.title(\"Model Accuracy\")\n",
    "plt.xlabel(\"Epochs\")\n",
    "plt.ylabel(\"Accuracy\")\n",
    "plt.legend(['Train','Val'])\n",
    "plt.show()"
   ]
  },
  {
   "cell_type": "code",
   "execution_count": 58,
   "id": "5ecd48a2",
   "metadata": {},
   "outputs": [
    {
     "data": {
      "image/png": "[encoded data removed]",
      "text/plain": [
       "<Figure size 640x480 with 1 Axes>"
      ]
     },
     "metadata": {},
     "output_type": "display_data"
    }
   ],
   "source": [
    "plt.plot(history.history['loss'])\n",
    "plt.plot(history.history[\"val_\" + 'loss'])\n",
    "plt.title(\"Model Loss\")\n",
    "plt.xlabel(\"Epochs\")\n",
    "plt.ylabel(\"Accuracy\")\n",
    "plt.legend(['Train','Val'])\n",
    "plt.show()"
   ]
  },
  {
   "cell_type": "code",
   "execution_count": 61,
   "id": "f083a8ca",
   "metadata": {},
   "outputs": [
    {
     "name": "stdout",
     "output_type": "stream",
     "text": [
      "100/100 [==============================] - 76s 764ms/step - loss: 0.4191 - acc: 0.8197 - auc: 0.9687 - f1_score: 0.8182\n",
      "Testing Accuracy: 81.969%\n"
     ]
    }
   ],
   "source": [
    "test_final_scores = my_inception_model.evaluate(test_data, test_labels)\n",
    "print(\"Testing Accuracy: %.3f%%\"%(test_final_scores[1] * 100))"
   ]
  },
  {
   "cell_type": "code",
   "execution_count": 71,
   "id": "bd454225",
   "metadata": {},
   "outputs": [
    {
     "name": "stdout",
     "output_type": "stream",
     "text": [
      "100/100 [==============================] - 72s 724ms/step\n"
     ]
    }
   ],
   "source": [
    "#Predicting for test data\n",
    "predicting_labels = my_inception_model.predict(test_data)"
   ]
  },
  {
   "cell_type": "code",
   "execution_count": 72,
   "id": "4cbd4b2b",
   "metadata": {},
   "outputs": [
    {
     "data": {
      "text/plain": [
       "array([[2.3356700e-02, 3.0590270e-06, 2.7823418e-01, 6.9840604e-01],\n",
       "       [6.7920179e-16, 1.0000000e+00, 9.0800259e-16, 1.6311768e-11],\n",
       "       [8.1885442e-02, 1.2818852e-04, 2.4014038e-01, 6.7784607e-01],\n",
       "       ...,\n",
       "       [9.9996984e-01, 1.0155019e-19, 6.3647096e-09, 3.0212270e-05],\n",
       "       [4.3039140e-06, 7.9689165e-14, 7.3104501e-01, 2.6895067e-01],\n",
       "       [6.4199266e-05, 4.2706703e-11, 6.2908572e-01, 3.7085012e-01]],\n",
       "      dtype=float32)"
      ]
     },
     "execution_count": 72,
     "metadata": {},
     "output_type": "execute_result"
    }
   ],
   "source": [
    "predicting_labels\n",
    "# We have to maximum value in each of the array for final prediction"
   ]
  },
  {
   "cell_type": "code",
   "execution_count": 73,
   "id": "f43a3103",
   "metadata": {},
   "outputs": [],
   "source": [
    "# As we use softmax activation function in the last layer\n",
    "# we have to change last arrya into [0,1,0,0]\n",
    "def changearr(arr):\n",
    "    max_prob_index = arr.argmax()  # Find the index of the maximum probability\n",
    "    arr.fill(0)                     # Set all values to 0\n",
    "    arr[max_prob_index] = 1         # Set the maximum probability value to 1\n",
    "    return arr"
   ]
  },
  {
   "cell_type": "code",
   "execution_count": 74,
   "id": "3cc280a3",
   "metadata": {},
   "outputs": [],
   "source": [
    "for labels in predicting_labels:\n",
    "    labels = changearr(labels)"
   ]
  },
  {
   "cell_type": "code",
   "execution_count": 75,
   "id": "0b8590d3",
   "metadata": {},
   "outputs": [
    {
     "data": {
      "text/plain": [
       "array([[0., 0., 0., 1.],\n",
       "       [0., 1., 0., 0.],\n",
       "       [0., 0., 0., 1.],\n",
       "       ...,\n",
       "       [1., 0., 0., 0.],\n",
       "       [0., 0., 1., 0.],\n",
       "       [0., 0., 1., 0.]], dtype=float32)"
      ]
     },
     "execution_count": 75,
     "metadata": {},
     "output_type": "execute_result"
    }
   ],
   "source": [
    "predicting_labels"
   ]
  },
  {
   "cell_type": "code",
   "execution_count": 76,
   "id": "53ea4bd2",
   "metadata": {},
   "outputs": [
    {
     "name": "stdout",
     "output_type": "stream",
     "text": [
      "                  precision    recall  f1-score   support\n",
      "\n",
      "     NonDemented       0.89      0.94      0.92       793\n",
      "VeryMildDemented       1.00      1.00      1.00       787\n",
      "    MildDemented       0.82      0.54      0.66       828\n",
      "ModerateDemented       0.62      0.80      0.70       792\n",
      "\n",
      "       micro avg       0.82      0.82      0.82      3200\n",
      "       macro avg       0.83      0.82      0.82      3200\n",
      "    weighted avg       0.83      0.82      0.82      3200\n",
      "     samples avg       0.82      0.82      0.82      3200\n",
      "\n"
     ]
    }
   ],
   "source": [
    "print(classification_report(test_labels, predicting_labels, target_names=classes))"
   ]
  },
  {
   "cell_type": "code",
   "execution_count": 77,
   "id": "30200fa2",
   "metadata": {},
   "outputs": [],
   "source": [
    "#Plot the confusion matrix to understand the classification in detail\n",
    "\n",
    "#You are taking the prediction in each array and inserting into cm_pred_ls\n",
    "cm_pred_ls = np.argmax(predicting_labels, axis=1)\n",
    "cm_test_ls = np.argmax(test_labels, axis=1)\n",
    "confusion_matrix_arr = confusion_matrix(cm_test_ls, cm_pred_ls)"
   ]
  },
  {
   "cell_type": "code",
   "execution_count": 84,
   "id": "d3d1db24",
   "metadata": {},
   "outputs": [
    {
     "data": {
      "image/png": "[encoded data removed]",
      "text/plain": [
       "<Figure size 540x300 with 2 Axes>"
      ]
     },
     "metadata": {},
     "output_type": "display_data"
    }
   ],
   "source": [
    "plt.figure(figsize=(9, 5), dpi=60, facecolor='w', edgecolor='k')\n",
    "ax = sns.heatmap(confusion_matrix_arr, cmap='Blues_r', annot=True, fmt='d', xticklabels= classes, yticklabels=classes)\n",
    "plt.title('Alzheimers Disease Diagnosis')\n",
    "plt.xlabel('Prediction')\n",
    "plt.ylabel('Truth')\n",
    "plt.show(ax)"
   ]
  },
  {
   "cell_type": "code",
   "execution_count": 86,
   "id": "3489ba95",
   "metadata": {},
   "outputs": [
    {
     "name": "stdout",
     "output_type": "stream",
     "text": [
      "Balanced Accuracy Score: 82.306 %\n"
     ]
    }
   ],
   "source": [
    "print(\"Balanced Accuracy Score: {} %\".format(round(BAS(cm_test_ls, cm_pred_ls) * 100, 3)))"
   ]
  },
  {
   "cell_type": "markdown",
   "id": "cf267b8b",
   "metadata": {},
   "source": [
    "# Prediction"
   ]
  },
  {
   "cell_type": "code",
   "execution_count": 152,
   "id": "d3f061b9",
   "metadata": {},
   "outputs": [
    {
     "data": {
      "image/png": "[encoded data removed]",
      "text/plain": [
       "<PIL.JpegImagePlugin.JpegImageFile image mode=L size=176x208>"
      ]
     },
     "execution_count": 152,
     "metadata": {},
     "output_type": "execute_result"
    }
   ],
   "source": [
    "#Displaying The image\n",
    "im = Image.open(r\"C:/Users/veera/Desktop/Alzheimer_s Dataset/test/MildDemented/27 (4).jpg\")\n",
    "im"
   ]
  },
  {
   "cell_type": "code",
   "execution_count": 153,
   "id": "1602832a",
   "metadata": {},
   "outputs": [
    {
     "name": "stdout",
     "output_type": "stream",
     "text": [
      "1/1 [==============================] - 0s 58ms/step\n"
     ]
    }
   ],
   "source": [
    "# Reading Image using Opencv and sending it to the network to make prediction\n",
    "image_path = \"C:/Users/veera/Desktop/Alzheimer_s Dataset/test/MildDemented/27 (4).jpg\"\n",
    "image = cv2.imread(image_path)\n",
    "image = cv2.cvtColor(image, cv2.COLOR_BGR2RGB)  # Convert to RGB\n",
    "image = cv2.resize(image, (176, 176))  # Resize to the input size expected by the model\n",
    "# Expand the dimensions to match the model's input shape\n",
    "image = np.expand_dims(image, axis=0)\n",
    "# Make predictions using the model\n",
    "predictions = my_inception_model.predict(image)\n",
    "# Interpret the predictions as needed (e.g., get the class label)"
   ]
  },
  {
   "cell_type": "code",
   "execution_count": 155,
   "id": "68b87aa6",
   "metadata": {},
   "outputs": [
    {
     "name": "stdout",
     "output_type": "stream",
     "text": [
      "MildDemented\n"
     ]
    }
   ],
   "source": [
    "# Final Prediction\n",
    "final_prediction = classes[np.argmax(predictions)]\n",
    "print(final_prediction)"
   ]
  }
 ],
 "metadata": {
  "kernelspec": {
   "display_name": "Python 3 (ipykernel)",
   "language": "python",
   "name": "python3"
  },
  "language_info": {
   "codemirror_mode": {
    "name": "ipython",
    "version": 3
   },
   "file_extension": ".py",
   "mimetype": "text/x-python",
   "name": "python",
   "nbconvert_exporter": "python",
   "pygments_lexer": "ipython3",
   "version": "3.9.13"
  }
 },
 "nbformat": 4,
 "nbformat_minor": 5
}
